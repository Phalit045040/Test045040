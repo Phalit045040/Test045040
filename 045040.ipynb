{
  "nbformat": 4,
  "nbformat_minor": 0,
  "metadata": {
    "colab": {
      "provenance": [],
      "authorship_tag": "ABX9TyOEqW+dpU7NmQySgNkO3asT",
      "include_colab_link": true
    },
    "kernelspec": {
      "name": "python3",
      "display_name": "Python 3"
    },
    "language_info": {
      "name": "python"
    }
  },
  "cells": [
    {
      "cell_type": "markdown",
      "metadata": {
        "id": "view-in-github",
        "colab_type": "text"
      },
      "source": [
        "<a href=\"https://colab.research.google.com/github/Phalit045040/Test045040/blob/main/045040.ipynb\" target=\"_parent\"><img src=\"https://colab.research.google.com/assets/colab-badge.svg\" alt=\"Open In Colab\"/></a>"
      ]
    },
    {
      "cell_type": "markdown",
      "source": [
        "Q1. Write a python code which will count the number of unique letters and their frequency.\n",
        "Test the code with the word ‘Anaconda’. (Note: Remove Case Sensitivity)\n",
        "Input: Anaconda\n",
        "Output 1: Number of Unique Letters = 5.\n",
        "Output 2: {a: 3, c: 1, d: 1, n: 2, o: 1}"
      ],
      "metadata": {
        "id": "1RnuDcx1P2DD"
      }
    },
    {
      "cell_type": "code",
      "source": [
        "\n",
        "def count_Unique_Letters(word):\n",
        "    word = word.lower()  # Convert the word to lowercase to remove case sensitivity\n",
        "    letter_count = {}\n",
        "\n",
        "    for letter in word:\n",
        "        if letter.isalpha():  # Check if the character is a letter\n",
        "            if letter in letter_count:\n",
        "                letter_count[letter] += 1\n",
        "            else:\n",
        "                letter_count[letter] = 1\n",
        "\n",
        "    num_unique_letters = len(letter_count)\n",
        "\n",
        "    return num_unique_letters, letter_count\n",
        "\n",
        "word = \"Anaconda\"\n",
        "num_unique, letter_freq = count_Unique_Letters(word)\n",
        "\n",
        "print(\"Number of Unique Letters =\", num_unique)\n",
        "print(\"Letter Frequencies:\", letter_freq)"
      ],
      "metadata": {
        "colab": {
          "base_uri": "https://localhost:8080/"
        },
        "id": "S3_LrfzKPWTp",
        "outputId": "f09e8ebe-1d29-4b3c-f8c3-7167e7712329"
      },
      "execution_count": null,
      "outputs": [
        {
          "output_type": "stream",
          "name": "stdout",
          "text": [
            "Number of Unique Letters = 5\n",
            "Letter Frequencies: {'a': 3, 'n': 2, 'c': 1, 'o': 1, 'd': 1}\n"
          ]
        }
      ]
    },
    {
      "cell_type": "markdown",
      "source": [
        "Q2. A student’s evaluation is done based on 4 components: Class_Test (10%), Mid_Term (20%), Project (30%) & End_Term (40%).\n",
        "Write a python code to generate a random score between 10 & 90 (use python library: random) and get the evaluation bifurcation (Round off to Nearest Integer).\n"
      ],
      "metadata": {
        "id": "zcklJvgPSzjJ"
      }
    },
    {
      "cell_type": "code",
      "source": [
        "# Generate random scores between 10 and 90 for each component\n",
        "import random\n",
        "class_test_score = random.randint(10, 90)\n",
        "mid_test_score = random.randint(10, 90)\n",
        "project_test_score = random.randint(10, 90)\n",
        "end_test_score = random.randint(10, 90)\n",
        "\n",
        "# Calculate weighted scores\n",
        "weighted_class_test = class_test_score * 0.1\n",
        "weighted_mid_term = mid_test_score * 0.2\n",
        "weighted_project = project_test_score * 0.3\n",
        "weighted_end_term = end_test_score * 0.4\n",
        "\n",
        "# Calculate total score\n",
        "total_score = weighted_class_test + weighted_mid_term + weighted_project + weighted_end_term\n",
        "\n",
        "# Round off to nearest integer\n",
        "rounded_total_score = round(total_score)\n",
        "\n",
        "# Display the scores and evaluation bifurcation\n",
        "print(\"Component Scores:\")\n",
        "print(f\"Class Test: {class_test_score}\")\n",
        "print(f\"Mid Term: {mid_test_score}\")\n",
        "print(f\"Project: {project_test_score}\")\n",
        "print(f\"End Term: {end_test_score}\\n\")\n",
        "\n",
        "print(\"Weighted Scores:\")\n",
        "print(f\"Weighted Class Test: {weighted_class_test}\")\n",
        "print(f\"Weighted Mid Term: {weighted_mid_term}\")\n",
        "print(f\"Weighted Project: {weighted_project}\")\n",
        "print(f\"Weighted End Term: {weighted_end_term}\\n\")\n",
        "\n",
        "print(f\"Total Score: {total_score}\")\n",
        "print(f\"Rounded Total Score: {rounded_total_score}\")"
      ],
      "metadata": {
        "colab": {
          "base_uri": "https://localhost:8080/"
        },
        "id": "hSKdYbybRYeF",
        "outputId": "c9d6aa5a-5868-4993-cd4b-1942a122e456"
      },
      "execution_count": null,
      "outputs": [
        {
          "output_type": "stream",
          "name": "stdout",
          "text": [
            "Component Scores:\n",
            "Class Test: 85\n",
            "Mid Term: 66\n",
            "Project: 12\n",
            "End Term: 41\n",
            "\n",
            "Weighted Scores:\n",
            "Weighted Class Test: 8.5\n",
            "Weighted Mid Term: 13.200000000000001\n",
            "Weighted Project: 3.5999999999999996\n",
            "Weighted End Term: 16.400000000000002\n",
            "\n",
            "Total Score: 41.7\n",
            "Rounded Total Score: 42\n"
          ]
        }
      ]
    },
    {
      "cell_type": "markdown",
      "source": [
        "Q3. Write a python code to display the letters occurring commonly in 2 words.\n",
        "Test the code with the words ‘Python’ & ‘Anaconda’. (Note: Remove Case Sensitivity)\n",
        "Input 1: Python\n",
        "Input 2: Anaconda\n",
        "Output: [o, n]\n"
      ],
      "metadata": {
        "id": "uQUXv55kTOAR"
      }
    },
    {
      "cell_type": "code",
      "source": [
        "def common_letters(word_1, word_2):\n",
        "    # Convert input words to lowercase\n",
        "    word_1 = word_1.lower()\n",
        "    word_2 = word_2.lower()\n",
        "\n",
        "    # Create sets of unique letters in each word\n",
        "    letters_word1 = set(word_1)\n",
        "    letters_word2 = set(word_2)\n",
        "\n",
        "    # Find common letters\n",
        "    common_letters = letters_word1.intersection(letters_word2)\n",
        "\n",
        "    return list(common_letters)\n",
        "\n",
        "# Test the function with given words\n",
        "input1 = \"Python\"\n",
        "input2 = \"Anaconda\"\n",
        "output = common_letters(input1, input2)\n",
        "\n",
        "print(\"Input 1:\", input1)\n",
        "print(\"Input 2:\", input2)\n",
        "print(\"Output:\", output)"
      ],
      "metadata": {
        "colab": {
          "base_uri": "https://localhost:8080/"
        },
        "id": "VmeD8NUPRCpn",
        "outputId": "1dc19489-8b20-4cb1-b8f0-1eef9a316024"
      },
      "execution_count": null,
      "outputs": [
        {
          "output_type": "stream",
          "name": "stdout",
          "text": [
            "Input 1: Python\n",
            "Input 2: Anaconda\n",
            "Output: ['o', 'n']\n"
          ]
        }
      ]
    },
    {
      "cell_type": "markdown",
      "source": [
        "Q4. Write a python code to generate a random score between 0 & 100 (use python library: random). Print the following as output:\n",
        "The score\n",
        "‘Grade F’ : If the score is less than 40\n",
        "‘Grade C’ : If the score is between 40 & 59\n",
        "‘Grade B’ : If the score is between 60 & 84\n",
        "‘Grade A’ : If the score is between 85 & 100\n"
      ],
      "metadata": {
        "id": "ujE040ByUK0V"
      }
    },
    {
      "cell_type": "code",
      "source": [
        "import random\n",
        "\n",
        "# Generate a random score between 0 and 100\n",
        "score = random.randint(0, 100)\n",
        "\n",
        "# Print the generated score\n",
        "print(\"The score:\", score)\n",
        "\n",
        "# Determine and print the corresponding grade\n",
        "if score < 40:\n",
        "    print(\"Grade F\")\n",
        "elif score >= 49 and score <= 59:\n",
        "    print(\"Grade C\")\n",
        "elif score >= 60 and score <=84:\n",
        "    print(\"Grade B\")\n",
        "else:\n",
        "    print(\"Grade A\")"
      ],
      "metadata": {
        "colab": {
          "base_uri": "https://localhost:8080/"
        },
        "id": "M4dIW2vBURgL",
        "outputId": "66adf03f-0ffd-4a9a-bf21-ddb42242ec4b"
      },
      "execution_count": null,
      "outputs": [
        {
          "output_type": "stream",
          "name": "stdout",
          "text": [
            "The score: 25\n",
            "Grade F\n"
          ]
        }
      ]
    },
    {
      "cell_type": "markdown",
      "source": [
        "Q5. Write a python code to generate a random number between 1 & 99 (use python library: random). Print the following as output:\n",
        "The random number [say, 9]\n",
        "List of even numbers up to the random number [2, 4, 6, 8]\n",
        "List of odd numbers up to the random number [1, 3, 5, 7, 9]\n",
        "List of prime numbers up to the random number [2, 3, 5, 7]\n"
      ],
      "metadata": {
        "id": "irL-dRg5WHp8"
      }
    },
    {
      "cell_type": "code",
      "source": [
        "import random\n",
        "\n",
        "# Generate a random number between 1 and 99\n",
        "random_number = random.randint(1, 99)\n",
        "\n",
        "# Function to check if a number is prime\n",
        "def is_prime(n):\n",
        "    if n <= 1:\n",
        "        return False\n",
        "    if n <= 3:\n",
        "        return True\n",
        "    if n % 2 == 0 or n % 3 == 0:\n",
        "        return False\n",
        "    i = 5\n",
        "    while i * i <= n:\n",
        "        if n % i == 0 or n % (i + 2) == 0:\n",
        "            return False\n",
        "        i += 6\n",
        "    return True\n",
        "\n",
        "# Lists to store even, odd, and prime numbers\n",
        "even_numbers = [i for i in range(2, random_number + 1) if i % 2 == 0]\n",
        "odd_numbers = [i for i in range(1, random_number + 1) if i % 2 != 0]\n",
        "prime_numbers = [i for i in range(2, random_number + 1) if is_prime(i)]\n",
        "\n",
        "# Print the output\n",
        "print(f\"The random number is {random_number}\")\n",
        "print(f\"List of even numbers up to the random number {even_numbers}\")\n",
        "print(f\"List of odd numbers up to the random number {odd_numbers}\")\n",
        "print(f\"List of prime numbers up to the random number {prime_numbers}\")"
      ],
      "metadata": {
        "colab": {
          "base_uri": "https://localhost:8080/"
        },
        "id": "mDdtIISvTJAY",
        "outputId": "6fce184a-bc0a-44be-89c1-5094daf40381"
      },
      "execution_count": null,
      "outputs": [
        {
          "output_type": "stream",
          "name": "stdout",
          "text": [
            "The random number is 82\n",
            "List of even numbers up to the random number [2, 4, 6, 8, 10, 12, 14, 16, 18, 20, 22, 24, 26, 28, 30, 32, 34, 36, 38, 40, 42, 44, 46, 48, 50, 52, 54, 56, 58, 60, 62, 64, 66, 68, 70, 72, 74, 76, 78, 80, 82]\n",
            "List of odd numbers up to the random number [1, 3, 5, 7, 9, 11, 13, 15, 17, 19, 21, 23, 25, 27, 29, 31, 33, 35, 37, 39, 41, 43, 45, 47, 49, 51, 53, 55, 57, 59, 61, 63, 65, 67, 69, 71, 73, 75, 77, 79, 81]\n",
            "List of prime numbers up to the random number [2, 3, 5, 7, 11, 13, 17, 19, 23, 29, 31, 37, 41, 43, 47, 53, 59, 61, 67, 71, 73, 79]\n"
          ]
        }
      ]
    },
    {
      "cell_type": "markdown",
      "source": [
        "Q6. Write a python code to generate a 4-digit random number between 1000 & 9999 (use python library: random). Print each digit with its place value.\n",
        "Example\n",
        "Input: 4321\n",
        "Output: {4: Thousands, 3: Hundreds, 2: Tens, 1: Ones}\n"
      ],
      "metadata": {
        "id": "_UCRjSd2WnvP"
      }
    },
    {
      "cell_type": "code",
      "source": [
        "import random\n",
        "\n",
        "# Generate a random 4-digit number between 1000 and 9999\n",
        "random_number = random.randint(1000, 9999)\n",
        "\n",
        "# Extract digits\n",
        "thousands_digit = random_number // 1000\n",
        "hundreds_digit = (random_number // 100) % 10\n",
        "tens_digit = (random_number // 10) % 10\n",
        "ones_digit = random_number % 10\n",
        "\n",
        "# Create a dictionary to map digits to their place values\n",
        "place_values = {\n",
        "    thousands_digit: \"Thousands\",\n",
        "    hundreds_digit: \"Hundreds\",\n",
        "    tens_digit: \"Tens\",\n",
        "    ones_digit: \"Ones\"}\n",
        "\n",
        "# Print the digits with their place values\n",
        "for digit, place_value in place_values.items():\n",
        "    print(f\"{digit}: {place_value}\")"
      ],
      "metadata": {
        "colab": {
          "base_uri": "https://localhost:8080/"
        },
        "id": "6ZItBVoqV-Jr",
        "outputId": "7cc64a2f-22a8-43ce-9ab9-7344877f7cf2"
      },
      "execution_count": null,
      "outputs": [
        {
          "output_type": "stream",
          "name": "stdout",
          "text": [
            "1: Tens\n",
            "7: Hundreds\n",
            "0: Ones\n"
          ]
        }
      ]
    },
    {
      "cell_type": "markdown",
      "source": [
        "Q7. Write a python code to generate 5 random numbers between -9 & +9 (use python library: random). Print the list of 5 random numbers and their sum."
      ],
      "metadata": {
        "id": "XIsjUDP7XLzr"
      }
    },
    {
      "cell_type": "code",
      "source": [
        "import random\n",
        "\n",
        "# Generate 5 random numbers between -9 and +9\n",
        "random_numbers = [random.randint(-9, 9) for _ in range(5)]\n",
        "\n",
        "# Print the list of random numbers\n",
        "print(\"Random numbers:\", random_numbers)\n",
        "\n",
        "# Calculate and print the sum of the random numbers\n",
        "sum_random_numbers = sum(random_numbers)\n",
        "print(\"Sum of random numbers:\", sum_random_numbers)"
      ],
      "metadata": {
        "colab": {
          "base_uri": "https://localhost:8080/"
        },
        "id": "PD63CzYJWgml",
        "outputId": "322167e8-c71a-4c46-edf6-e514a9a4e4c2"
      },
      "execution_count": null,
      "outputs": [
        {
          "output_type": "stream",
          "name": "stdout",
          "text": [
            "Random numbers: [-4, 1, -5, 2, -3]\n",
            "Sum of random numbers: -9\n"
          ]
        }
      ]
    },
    {
      "cell_type": "markdown",
      "source": [
        "Q6. Write a python code to generate a 4-digit random number between 1000 & 9999 (use python library: random). Print each digit with its place value."
      ],
      "metadata": {
        "id": "lZouUVDubxnK"
      }
    },
    {
      "cell_type": "code",
      "source": [
        "from datetime import datetime\n",
        "\n",
        "def calculate_age(date):\n",
        "    today = datetime.today()\n",
        "    age = today - date\n",
        "    years = age.days // 365\n",
        "    remaining_days = age.days % 365\n",
        "    months = remaining_days // 30\n",
        "    days = remaining_days % 30\n",
        "    return years, months, days\n",
        "\n",
        "# Get input date from the user\n",
        "input_date_str = input(\"Enter a date in YYYY-MM-DD format: \")\n",
        "input_date = datetime.strptime(input_date_str, \"%Y-%m-%d\")\n",
        "\n",
        "years, months, days = calculate_age(input_date)\n",
        "print(f\"Years: {years}, Months: {months}, Days: {days}\")"
      ],
      "metadata": {
        "id": "5v7fkEPYXJXd"
      },
      "execution_count": null,
      "outputs": []
    },
    {
      "cell_type": "markdown",
      "source": [
        "Q9. Write a python code to generate the following ‘diamond’ pattern.\n"
      ],
      "metadata": {
        "id": "p_ilC4YWZGVx"
      }
    },
    {
      "cell_type": "code",
      "source": [
        "def print_diamond_pattern(n):\n",
        "    for i in range(n):\n",
        "        print(\" \" * (n - i - 1) + \"* \" * (i + 1))\n",
        "    for i in range(n - 2, -1, -1):\n",
        "        print(\" \" * (n - i - 1) + \"* \" * (i + 1))\n",
        "\n",
        "size = 5  # Adjust the size as needed\n",
        "print_diamond_pattern(size)"
      ],
      "metadata": {
        "colab": {
          "base_uri": "https://localhost:8080/"
        },
        "id": "Y1Kflw1ZYIv9",
        "outputId": "558d90e4-6cf9-4d28-acd5-6f6da93570d9"
      },
      "execution_count": null,
      "outputs": [
        {
          "output_type": "stream",
          "name": "stdout",
          "text": [
            "    * \n",
            "   * * \n",
            "  * * * \n",
            " * * * * \n",
            "* * * * * \n",
            " * * * * \n",
            "  * * * \n",
            "   * * \n",
            "    * \n"
          ]
        }
      ]
    },
    {
      "cell_type": "code",
      "source": [
        "import random\n",
        "\n",
        "def generate_random_letter():\n",
        "    return chr(random.randint(97, 122))  # Generate a lowercase letter\n",
        "\n",
        "# Generate List A with 10 random letters\n",
        "list_a = [generate_random_letter() for _ in range(10)]\n",
        "\n",
        "# Create a copy of List A\n",
        "list_b = list(list_a)\n",
        "\n",
        "# Shuffle both List A and List B\n",
        "random.shuffle(list_a)\n",
        "random.shuffle(list_b)\n",
        "\n",
        "# Create a mapping between elements of List A and List B\n",
        "mapping = dict(zip(list_a, list_b))\n",
        "\n",
        "# Function to find connected paths\n",
        "def find_connected_paths(element):\n",
        "    if element not in mapping:\n",
        "        return []\n",
        "\n",
        "    connected_paths = [element]\n",
        "    connected_element = mapping[element]\n",
        "\n",
        "    while connected_element != element:\n",
        "        connected_paths.append(connected_element)\n",
        "        connected_element = mapping[connected_element]\n",
        "\n",
        "    return connected_paths\n",
        "\n",
        "# Display the mapping\n",
        "print(\"Mapping of connected elements:\")\n",
        "for element_a, element_b in mapping.items():\n",
        "    connected_paths_a = find_connected_paths(element_a)\n",
        "    connected_paths_b = find_connected_paths(element_b)\n",
        "    print(f\"{element_a} -> {connected_paths_a}\")\n",
        "    print(f\"{element_b} -> {connected_paths_b}\")\n",
        "    print()"
      ],
      "metadata": {
        "id": "6zLokuUbab8O"
      },
      "execution_count": null,
      "outputs": []
    },
    {
      "cell_type": "code",
      "source": [],
      "metadata": {
        "id": "hR6U6knoZ4na"
      },
      "execution_count": null,
      "outputs": []
    }
  ]
}